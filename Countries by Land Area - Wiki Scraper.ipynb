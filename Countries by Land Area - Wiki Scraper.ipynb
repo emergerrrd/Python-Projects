{
 "metadata": {
  "language_info": {
   "codemirror_mode": {
    "name": "ipython",
    "version": 3
   },
   "file_extension": ".py",
   "mimetype": "text/x-python",
   "name": "python",
   "nbconvert_exporter": "python",
   "pygments_lexer": "ipython3",
   "version": "3.7.6-final"
  },
  "orig_nbformat": 2,
  "kernelspec": {
   "name": "Python 3.7.6 64-bit (conda)",
   "display_name": "Python 3.7.6 64-bit (conda)",
   "metadata": {
    "interpreter": {
     "hash": "8fac594bfae6525c0c41b4041d2d72effa188cc8ead05f81b1fab2bb098927fb"
    }
   }
  }
 },
 "nbformat": 4,
 "nbformat_minor": 2,
 "cells": [
  {
   "cell_type": "code",
   "execution_count": 1,
   "metadata": {},
   "outputs": [],
   "source": [
    "import requests\n",
    "from bs4 import BeautifulSoup\n",
    "\n",
    "website_url = requests.get('https://en.wikipedia.org/wiki/List_of_Asian_countries_by_area', headers={'User-Agent': 'Mozilla/5.0 (X11; Linux x86_64)'}).text"
   ]
  },
  {
   "cell_type": "code",
   "execution_count": 5,
   "metadata": {
    "tags": [
     "outputPrepend"
    ]
   },
   "outputs": [
    {
     "output_type": "stream",
     "name": "stdout",
     "text": [
      "precated. -->\n    <nav aria-labelledby=\"p-personal-label\" class=\"mw-portlet mw-portlet-personal vector-menu\" id=\"p-personal\" role=\"navigation\">\n     <h3 id=\"p-personal-label\">\n      <span>\n       Personal tools\n      </span>\n     </h3>\n     <div class=\"vector-menu-content\">\n      <ul class=\"vector-menu-content-list\">\n       <li id=\"pt-anonuserpage\">\n        Not logged in\n       </li>\n       <li id=\"pt-anontalk\">\n        <a accesskey=\"n\" href=\"/wiki/Special:MyTalk\" title=\"Discussion about edits from this IP address [n]\">\n         Talk\n        </a>\n       </li>\n       <li id=\"pt-anoncontribs\">\n        <a accesskey=\"y\" href=\"/wiki/Special:MyContributions\" title=\"A list of edits made from this IP address [y]\">\n         Contributions\n        </a>\n       </li>\n       <li id=\"pt-createaccount\">\n        <a href=\"/w/index.php?title=Special:CreateAccount&amp;returnto=List+of+Asian+countries+by+area\" title=\"You are encouraged to create an account and log in; however, it is not mandatory\">\n         Create account\n        </a>\n       </li>\n       <li id=\"pt-login\">\n        <a accesskey=\"o\" href=\"/w/index.php?title=Special:UserLogin&amp;returnto=List+of+Asian+countries+by+area\" title=\"You're encouraged to log in; however, it's not mandatory. [o]\">\n         Log in\n        </a>\n       </li>\n      </ul>\n     </div>\n    </nav>\n    <div id=\"left-navigation\">\n     <!-- Please do not use role attribute as CSS selector, it is deprecated. -->\n     <nav aria-labelledby=\"p-namespaces-label\" class=\"mw-portlet mw-portlet-namespaces vector-menu vector-menu-tabs\" id=\"p-namespaces\" role=\"navigation\">\n      <h3 id=\"p-namespaces-label\">\n       <span>\n        Namespaces\n       </span>\n      </h3>\n      <div class=\"vector-menu-content\">\n       <ul class=\"vector-menu-content-list\">\n        <li class=\"selected\" id=\"ca-nstab-main\">\n         <a accesskey=\"c\" href=\"/wiki/List_of_Asian_countries_by_area\" title=\"View the content page [c]\">\n          Article\n         </a>\n        </li>\n        <li id=\"ca-talk\">\n         <a accesskey=\"t\" href=\"/wiki/Talk:List_of_Asian_countries_by_area\" rel=\"discussion\" title=\"Discuss improvements to the content page [t]\">\n          Talk\n         </a>\n        </li>\n       </ul>\n      </div>\n     </nav>\n     <!-- Please do not use role attribute as CSS selector, it is deprecated. -->\n     <nav aria-labelledby=\"p-variants-label\" class=\"mw-portlet mw-portlet-variants emptyPortlet vector-menu vector-menu-dropdown\" id=\"p-variants\" role=\"navigation\">\n      <input aria-labelledby=\"p-variants-label\" class=\"vector-menu-checkbox\" type=\"checkbox\"/>\n      <h3 id=\"p-variants-label\">\n       <span>\n        Variants\n       </span>\n      </h3>\n      <div class=\"vector-menu-content\">\n       <ul class=\"vector-menu-content-list\">\n       </ul>\n      </div>\n     </nav>\n    </div>\n    <div id=\"right-navigation\">\n     <!-- Please do not use role attribute as CSS selector, it is deprecated. -->\n     <nav aria-labelledby=\"p-views-label\" class=\"mw-portlet mw-portlet-views vector-menu vector-menu-tabs\" id=\"p-views\" role=\"navigation\">\n      <h3 id=\"p-views-label\">\n       <span>\n        Views\n       </span>\n      </h3>\n      <div class=\"vector-menu-content\">\n       <ul class=\"vector-menu-content-list\">\n        <li class=\"selected\" id=\"ca-view\">\n         <a href=\"/wiki/List_of_Asian_countries_by_area\">\n          Read\n         </a>\n        </li>\n        <li id=\"ca-edit\">\n         <a accesskey=\"e\" href=\"/w/index.php?title=List_of_Asian_countries_by_area&amp;action=edit\" title=\"Edit this page [e]\">\n          Edit\n         </a>\n        </li>\n        <li id=\"ca-history\">\n         <a accesskey=\"h\" href=\"/w/index.php?title=List_of_Asian_countries_by_area&amp;action=history\" title=\"Past revisions of this page [h]\">\n          View history\n         </a>\n        </li>\n       </ul>\n      </div>\n     </nav>\n     <!-- Please do not use role attribute as CSS selector, it is deprecated. -->\n     <nav aria-labelledby=\"p-cactions-label\" class=\"mw-portlet mw-portlet-cactions emptyPortlet vector-menu vector-menu-dropdown\" id=\"p-cactions\" role=\"navigation\">\n      <input aria-labelledby=\"p-cactions-label\" class=\"vector-menu-checkbox\" type=\"checkbox\"/>\n      <h3 id=\"p-cactions-label\">\n       <span>\n        More\n       </span>\n      </h3>\n      <div class=\"vector-menu-content\">\n       <ul class=\"vector-menu-content-list\">\n       </ul>\n      </div>\n     </nav>\n     <div id=\"p-search\" role=\"search\">\n      <h3>\n       <label for=\"searchInput\">\n        Search\n       </label>\n      </h3>\n      <form action=\"/w/index.php\" id=\"searchform\">\n       <div data-search-loc=\"header-navigation\" id=\"simpleSearch\">\n        <input accesskey=\"f\" id=\"searchInput\" name=\"search\" placeholder=\"Search Wikipedia\" title=\"Search Wikipedia [f]\" type=\"search\"/>\n        <input name=\"title\" type=\"hidden\" value=\"Special:Search\"/>\n        <input class=\"searchButton mw-fallbackSearchButton\" id=\"mw-searchButton\" name=\"fulltext\" title=\"Search Wikipedia for this text\" type=\"submit\" value=\"Search\"/>\n        <input class=\"searchButton\" id=\"searchButton\" name=\"go\" title=\"Go to a page with this exact name if it exists\" type=\"submit\" value=\"Go\"/>\n       </div>\n      </form>\n     </div>\n    </div>\n   </div>\n   <div id=\"mw-panel\">\n    <div id=\"p-logo\" role=\"banner\">\n     <a class=\"mw-wiki-logo\" href=\"/wiki/Main_Page\" title=\"Visit the main page\">\n     </a>\n    </div>\n    <!-- Please do not use role attribute as CSS selector, it is deprecated. -->\n    <nav aria-labelledby=\"p-navigation-label\" class=\"mw-portlet mw-portlet-navigation vector-menu vector-menu-portal portal portal-first\" id=\"p-navigation\" role=\"navigation\">\n     <h3 id=\"p-navigation-label\">\n      <span>\n       Navigation\n      </span>\n     </h3>\n     <div class=\"vector-menu-content\">\n      <ul class=\"vector-menu-content-list\">\n       <li id=\"n-mainpage-description\">\n        <a accesskey=\"z\" href=\"/wiki/Main_Page\" title=\"Visit the main page [z]\">\n         Main page\n        </a>\n       </li>\n       <li id=\"n-contents\">\n        <a href=\"/wiki/Wikipedia:Contents\" title=\"Guides to browsing Wikipedia\">\n         Contents\n        </a>\n       </li>\n       <li id=\"n-currentevents\">\n        <a href=\"/wiki/Portal:Current_events\" title=\"Articles related to current events\">\n         Current events\n        </a>\n       </li>\n       <li id=\"n-randompage\">\n        <a accesskey=\"x\" href=\"/wiki/Special:Random\" title=\"Visit a randomly selected article [x]\">\n         Random article\n        </a>\n       </li>\n       <li id=\"n-aboutsite\">\n        <a href=\"/wiki/Wikipedia:About\" title=\"Learn about Wikipedia and how it works\">\n         About Wikipedia\n        </a>\n       </li>\n       <li id=\"n-contactpage\">\n        <a href=\"//en.wikipedia.org/wiki/Wikipedia:Contact_us\" title=\"How to contact Wikipedia\">\n         Contact us\n        </a>\n       </li>\n       <li id=\"n-sitesupport\">\n        <a href=\"https://donate.wikimedia.org/wiki/Special:FundraiserRedirector?utm_source=donate&amp;utm_medium=sidebar&amp;utm_campaign=C13_en.wikipedia.org&amp;uselang=en\" title=\"Support us by donating to the Wikimedia Foundation\">\n         Donate\n        </a>\n       </li>\n      </ul>\n     </div>\n    </nav>\n    <!-- Please do not use role attribute as CSS selector, it is deprecated. -->\n    <nav aria-labelledby=\"p-interaction-label\" class=\"mw-portlet mw-portlet-interaction vector-menu vector-menu-portal portal\" id=\"p-interaction\" role=\"navigation\">\n     <h3 id=\"p-interaction-label\">\n      <span>\n       Contribute\n      </span>\n     </h3>\n     <div class=\"vector-menu-content\">\n      <ul class=\"vector-menu-content-list\">\n       <li id=\"n-help\">\n        <a href=\"/wiki/Help:Contents\" title=\"Guidance on how to use and edit Wikipedia\">\n         Help\n        </a>\n       </li>\n       <li id=\"n-introduction\">\n        <a href=\"/wiki/Help:Introduction\" title=\"Learn how to edit Wikipedia\">\n         Learn to edit\n        </a>\n       </li>\n       <li id=\"n-portal\">\n        <a href=\"/wiki/Wikipedia:Community_portal\" title=\"The hub for editors\">\n         Community portal\n        </a>\n       </li>\n       <li id=\"n-recentchanges\">\n        <a accesskey=\"r\" href=\"/wiki/Special:RecentChanges\" title=\"A list of recent changes to Wikipedia [r]\">\n         Recent changes\n        </a>\n       </li>\n       <li id=\"n-upload\">\n        <a href=\"/wiki/Wikipedia:File_Upload_Wizard\" title=\"Add images or other media for use on Wikipedia\">\n         Upload file\n        </a>\n       </li>\n      </ul>\n     </div>\n    </nav>\n    <!-- Please do not use role attribute as CSS selector, it is deprecated. -->\n    <nav aria-labelledby=\"p-tb-label\" class=\"mw-portlet mw-portlet-tb vector-menu vector-menu-portal portal\" id=\"p-tb\" role=\"navigation\">\n     <h3 id=\"p-tb-label\">\n      <span>\n       Tools\n      </span>\n     </h3>\n     <div class=\"vector-menu-content\">\n      <ul class=\"vector-menu-content-list\">\n       <li id=\"t-whatlinkshere\">\n        <a accesskey=\"j\" href=\"/wiki/Special:WhatLinksHere/List_of_Asian_countries_by_area\" title=\"List of all English Wikipedia pages containing links to this page [j]\">\n         What links here\n        </a>\n       </li>\n       <li id=\"t-recentchangeslinked\">\n        <a accesskey=\"k\" href=\"/wiki/Special:RecentChangesLinked/List_of_Asian_countries_by_area\" rel=\"nofollow\" title=\"Recent changes in pages linked from this page [k]\">\n         Related changes\n        </a>\n       </li>\n       <li id=\"t-upload\">\n        <a accesskey=\"u\" href=\"/wiki/Wikipedia:File_Upload_Wizard\" title=\"Upload files [u]\">\n         Upload file\n        </a>\n       </li>\n       <li id=\"t-specialpages\">\n        <a accesskey=\"q\" href=\"/wiki/Special:SpecialPages\" title=\"A list of all special pages [q]\">\n         Special pages\n        </a>\n       </li>\n       <li id=\"t-permalink\">\n        <a href=\"/w/index.php?title=List_of_Asian_countries_by_area&amp;oldid=981771037\" title=\"Permanent link to this revision of this page\">\n         Permanent link\n        </a>\n       </li>\n       <li id=\"t-info\">\n        <a href=\"/w/index.php?title=List_of_Asian_countries_by_area&amp;action=info\" title=\"More information about this page\">\n         Page information\n        </a>\n       </li>\n       <li id=\"t-cite\">\n        <a href=\"/w/index.php?title=Special:CiteThisPage&amp;page=List_of_Asian_countries_by_area&amp;id=981771037&amp;wpFormIdentifier=titleform\" title=\"Information on how to cite this page\">\n         Cite this page\n        </a>\n       </li>\n       <li id=\"t-wikibase\">\n        <a accesskey=\"g\" href=\"https://www.wikidata.org/wiki/Special:EntityPage/Q20983969\" title=\"Structured data on this page hosted by Wikidata [g]\">\n         Wikidata item\n        </a>\n       </li>\n      </ul>\n     </div>\n    </nav>\n    <!-- Please do not use role attribute as CSS selector, it is deprecated. -->\n    <nav aria-labelledby=\"p-coll-print_export-label\" class=\"mw-portlet mw-portlet-coll-print_export vector-menu vector-menu-portal portal\" id=\"p-coll-print_export\" role=\"navigation\">\n     <h3 id=\"p-coll-print_export-label\">\n      <span>\n       Print/export\n      </span>\n     </h3>\n     <div class=\"vector-menu-content\">\n      <ul class=\"vector-menu-content-list\">\n       <li id=\"coll-download-as-rl\">\n        <a href=\"/w/index.php?title=Special:DownloadAsPdf&amp;page=List_of_Asian_countries_by_area&amp;action=show-download-screen\" title=\"Download this page as a PDF file\">\n         Download as PDF\n        </a>\n       </li>\n       <li id=\"t-print\">\n        <a accesskey=\"p\" href=\"/w/index.php?title=List_of_Asian_countries_by_area&amp;printable=yes\" title=\"Printable version of this page [p]\">\n         Printable version\n        </a>\n       </li>\n      </ul>\n     </div>\n    </nav>\n    <!-- Please do not use role attribute as CSS selector, it is deprecated. -->\n    <nav aria-labelledby=\"p-lang-label\" class=\"mw-portlet mw-portlet-lang vector-menu vector-menu-portal portal\" id=\"p-lang\" role=\"navigation\">\n     <h3 id=\"p-lang-label\">\n      <span>\n       Languages\n      </span>\n     </h3>\n     <div class=\"vector-menu-content\">\n      <ul class=\"vector-menu-content-list\">\n       <li class=\"interlanguage-link interwiki-ar\">\n        <a class=\"interlanguage-link-target\" href=\"https://ar.wikipedia.org/wiki/%D9%82%D8%A7%D8%A6%D9%85%D8%A9_%D8%A7%D9%84%D8%AF%D9%88%D9%84_%D8%A7%D9%84%D8%A2%D8%B3%D9%8A%D9%88%D9%8A%D8%A9_%D8%AD%D8%B3%D8%A8_%D8%A7%D9%84%D9%85%D8%B3%D8%A7%D8%AD%D8%A9\" hreflang=\"ar\" lang=\"ar\" title=\"قائمة الدول الآسيوية حسب المساحة – Arabic\">\n         العربية\n        </a>\n       </li>\n       <li class=\"interlanguage-link interwiki-nqo\">\n        <a class=\"interlanguage-link-target\" href=\"https://nqo.wikipedia.org/wiki/%DF%8A%DF%96%DF%AD%DF%8C%DF%AB_%DF%96%DF%A1%DF%8A%DF%A3%DF%8A_%DF%9F%DF%8E%DF%AC_%DF%9E%DF%8A%DF%AC_%DF%93%DF%8D%DF%B2%DF%AC_%DF%9D%DF%8A%DF%B2%DF%AC%DF%9D%DF%98%DF%8A_%DF%A1%DF%8A%DF%AC\" hreflang=\"nqo\" lang=\"nqo\" title=\"ߊߖ߭ߌ߫ ߖߡߊߣߊ ߟߎ߬ ߞߊ߬ ߓߍ߲߬ ߝߊ߲߬ߝߘߊ ߡߊ߬ – N’Ko\">\n         ߒߞߏ\n        </a>\n       </li>\n       <li class=\"interlanguage-link interwiki-th\">\n        <a class=\"interlanguage-link-target\" href=\"https://th.wikipedia.org/wiki/%E0%B8%A3%E0%B8%B2%E0%B8%A2%E0%B8%8A%E0%B8%B7%E0%B9%88%E0%B8%AD%E0%B8%9B%E0%B8%A3%E0%B8%B0%E0%B9%80%E0%B8%97%E0%B8%A8%E0%B9%83%E0%B8%99%E0%B8%97%E0%B8%A7%E0%B8%B5%E0%B8%9B%E0%B9%80%E0%B8%AD%E0%B9%80%E0%B8%8A%E0%B8%B5%E0%B8%A2%E0%B9%80%E0%B8%A3%E0%B8%B5%E0%B8%A2%E0%B8%87%E0%B8%95%E0%B8%B2%E0%B8%A1%E0%B8%9E%E0%B8%B7%E0%B9%89%E0%B8%99%E0%B8%97%E0%B8%B5%E0%B9%88\" hreflang=\"th\" lang=\"th\" title=\"รายชื่อประเทศในทวีปเอเชียเรียงตามพื้นที่ – Thai\">\n         ไทย\n        </a>\n       </li>\n       <li class=\"interlanguage-link interwiki-ur\">\n        <a class=\"interlanguage-link-target\" href=\"https://ur.wikipedia.org/wiki/%D8%A7%DB%8C%D8%B4%DB%8C%D8%A7%D8%A6%DB%8C_%D9%85%D9%85%D8%A7%D9%84%DA%A9_%DA%A9%DB%8C_%D9%81%DB%81%D8%B1%D8%B3%D8%AA_%D8%A8%D9%84%D8%AD%D8%A7%D8%B8_%D8%B1%D9%82%D8%A8%DB%81\" hreflang=\"ur\" lang=\"ur\" title=\"ایشیائی ممالک کی فہرست بلحاظ رقبہ – Urdu\">\n         اردو\n        </a>\n       </li>\n       <li class=\"interlanguage-link interwiki-vi\">\n        <a class=\"interlanguage-link-target\" href=\"https://vi.wikipedia.org/wiki/Danh_s%C3%A1ch_c%C3%A1c_qu%E1%BB%91c_gia_Ch%C3%A2u_%C3%81_theo_di%E1%BB%87n_t%C3%ADch\" hreflang=\"vi\" lang=\"vi\" title=\"Danh sách các quốc gia Châu Á theo diện tích – Vietnamese\">\n         Tiếng Việt\n        </a>\n       </li>\n      </ul>\n      <div class=\"after-portlet after-portlet-lang\">\n       <span class=\"wb-langlinks-edit wb-langlinks-link\">\n        <a class=\"wbc-editpage\" href=\"https://www.wikidata.org/wiki/Special:EntityPage/Q20983969#sitelinks-wikipedia\" title=\"Edit interlanguage links\">\n         Edit links\n        </a>\n       </span>\n      </div>\n     </div>\n    </nav>\n   </div>\n  </div>\n  <footer class=\"mw-footer\" id=\"footer\" role=\"contentinfo\">\n   <ul id=\"footer-info\">\n    <li id=\"footer-info-lastmod\">\n     This page was last edited on 4 October 2020, at 10:23\n     <span class=\"anonymous-show\">\n      (UTC)\n     </span>\n     .\n    </li>\n    <li id=\"footer-info-copyright\">\n     Text is available under the\n     <a href=\"//en.wikipedia.org/wiki/Wikipedia:Text_of_Creative_Commons_Attribution-ShareAlike_3.0_Unported_License\" rel=\"license\">\n      Creative Commons Attribution-ShareAlike License\n     </a>\n     <a href=\"//creativecommons.org/licenses/by-sa/3.0/\" rel=\"license\" style=\"display:none;\">\n     </a>\n     ;\nadditional terms may apply.  By using this site, you agree to the\n     <a href=\"//foundation.wikimedia.org/wiki/Terms_of_Use\">\n      Terms of Use\n     </a>\n     and\n     <a href=\"//foundation.wikimedia.org/wiki/Privacy_policy\">\n      Privacy Policy\n     </a>\n     . Wikipedia® is a registered trademark of the\n     <a href=\"//www.wikimediafoundation.org/\">\n      Wikimedia Foundation, Inc.\n     </a>\n     , a non-profit organization.\n    </li>\n   </ul>\n   <ul id=\"footer-places\">\n    <li id=\"footer-places-privacy\">\n     <a class=\"extiw\" href=\"https://foundation.wikimedia.org/wiki/Privacy_policy\" title=\"wmf:Privacy policy\">\n      Privacy policy\n     </a>\n    </li>\n    <li id=\"footer-places-about\">\n     <a href=\"/wiki/Wikipedia:About\" title=\"Wikipedia:About\">\n      About Wikipedia\n     </a>\n    </li>\n    <li id=\"footer-places-disclaimer\">\n     <a href=\"/wiki/Wikipedia:General_disclaimer\" title=\"Wikipedia:General disclaimer\">\n      Disclaimers\n     </a>\n    </li>\n    <li id=\"footer-places-contact\">\n     <a href=\"//en.wikipedia.org/wiki/Wikipedia:Contact_us\">\n      Contact Wikipedia\n     </a>\n    </li>\n    <li id=\"footer-places-mobileview\">\n     <a class=\"noprint stopMobileRedirectToggle\" href=\"//en.m.wikipedia.org/w/index.php?title=List_of_Asian_countries_by_area&amp;mobileaction=toggle_view_mobile\">\n      Mobile view\n     </a>\n    </li>\n    <li id=\"footer-places-developers\">\n     <a href=\"https://www.mediawiki.org/wiki/Special:MyLanguage/How_to_contribute\">\n      Developers\n     </a>\n    </li>\n    <li id=\"footer-places-statslink\">\n     <a href=\"https://stats.wikimedia.org/#/en.wikipedia.org\">\n      Statistics\n     </a>\n    </li>\n    <li id=\"footer-places-cookiestatement\">\n     <a href=\"https://foundation.wikimedia.org/wiki/Cookie_statement\">\n      Cookie statement\n     </a>\n    </li>\n   </ul>\n   <ul class=\"noprint\" id=\"footer-icons\">\n    <li id=\"footer-copyrightico\">\n     <a href=\"https://wikimediafoundation.org/\">\n      <img alt=\"Wikimedia Foundation\" height=\"31\" loading=\"lazy\" src=\"/static/images/footer/wikimedia-button.png\" srcset=\"/static/images/footer/wikimedia-button-1.5x.png 1.5x, /static/images/footer/wikimedia-button-2x.png 2x\" width=\"88\"/>\n     </a>\n    </li>\n    <li id=\"footer-poweredbyico\">\n     <a href=\"https://www.mediawiki.org/\">\n      <img alt=\"Powered by MediaWiki\" height=\"31\" loading=\"lazy\" src=\"/static/images/footer/poweredby_mediawiki_88x31.png\" srcset=\"/static/images/footer/poweredby_mediawiki_132x47.png 1.5x, /static/images/footer/poweredby_mediawiki_176x62.png 2x\" width=\"88\"/>\n     </a>\n    </li>\n   </ul>\n   <div style=\"clear: both;\">\n   </div>\n  </footer>\n  <script>\n   (RLQ=window.RLQ||[]).push(function(){mw.config.set({\"wgPageParseReport\":{\"limitreport\":{\"cputime\":\"0.564\",\"walltime\":\"0.823\",\"ppvisitednodes\":{\"value\":4838,\"limit\":1000000},\"postexpandincludesize\":{\"value\":189888,\"limit\":2097152},\"templateargumentsize\":{\"value\":28053,\"limit\":2097152},\"expansiondepth\":{\"value\":15,\"limit\":40},\"expensivefunctioncount\":{\"value\":72,\"limit\":500},\"unstrip-depth\":{\"value\":1,\"limit\":20},\"unstrip-size\":{\"value\":3520,\"limit\":5000000},\"entityaccesscount\":{\"value\":0,\"limit\":400},\"timingprofile\":[\"100.00%  608.393      1 -total\",\" 41.64%  253.347     50 Template:Flaglist\",\" 20.70%  125.950     12 Template:Navbox\",\" 16.86%  102.583      1 Template:Reflist\",\" 16.25%   98.888      1 Template:Asiafooter\",\" 15.74%   95.760      1 Template:Cite_Web\",\" 15.18%   92.339      1 Template:Region_topics\",\" 12.70%   77.269     50 Template:Flaglist/core\",\" 11.22%   68.243      1 Template:More_citations_needed\",\" 10.76%   65.458      1 Template:Short_description\"]},\"scribunto\":{\"limitreport-timeusage\":{\"value\":\"0.186\",\"limit\":\"10.000\"},\"limitreport-memusage\":{\"value\":4792837,\"limit\":52428800}},\"cachereport\":{\"origin\":\"mw2361\",\"timestamp\":\"20201022050240\",\"ttl\":2592000,\"transientcontent\":false}}});});\n  </script>\n  <script type=\"application/ld+json\">\n   {\"@context\":\"https:\\/\\/schema.org\",\"@type\":\"Article\",\"name\":\"List of Asian countries by area\",\"url\":\"https:\\/\\/en.wikipedia.org\\/wiki\\/List_of_Asian_countries_by_area\",\"sameAs\":\"http:\\/\\/www.wikidata.org\\/entity\\/Q20983969\",\"mainEntity\":\"http:\\/\\/www.wikidata.org\\/entity\\/Q20983969\",\"author\":{\"@type\":\"Organization\",\"name\":\"Contributors to Wikimedia projects\"},\"publisher\":{\"@type\":\"Organization\",\"name\":\"Wikimedia Foundation, Inc.\",\"logo\":{\"@type\":\"ImageObject\",\"url\":\"https:\\/\\/www.wikimedia.org\\/static\\/images\\/wmf-hor-googpub.png\"}},\"datePublished\":\"2015-08-29T05:06:35Z\",\"dateModified\":\"2020-10-04T10:23:14Z\",\"headline\":\"Wikimedia list article\"}\n  </script>\n  <script>\n   (RLQ=window.RLQ||[]).push(function(){mw.config.set({\"wgBackendResponseTime\":105,\"wgHostname\":\"mw2301\"});});\n  </script>\n </body>\n</html>\n"
     ]
    }
   ],
   "source": [
    "soup = BeautifulSoup(website_url, 'lxml')\n",
    "print(soup.prettify())"
   ]
  },
  {
   "cell_type": "code",
   "execution_count": 6,
   "metadata": {},
   "outputs": [],
   "source": [
    "my_table = soup.find('table', {'class':'wikitable sortable'})"
   ]
  },
  {
   "cell_type": "code",
   "execution_count": 12,
   "metadata": {},
   "outputs": [
    {
     "output_type": "execute_result",
     "data": {
      "text/plain": [
       "   Rank  ...                                              Notes\n",
       "0   1.0  ...        17,125,191 km² including European Russia[1]\n",
       "1   2.0  ...  excludes Hong Kong, Macau and other disputed a...\n",
       "2   3.0  ...                                                NaN\n",
       "3   4.0  ...              2,724,900 km² including European part\n",
       "4   5.0  ...                                                NaN\n",
       "\n",
       "[5 rows x 4 columns]"
      ],
      "text/html": "<div>\n<style scoped>\n    .dataframe tbody tr th:only-of-type {\n        vertical-align: middle;\n    }\n\n    .dataframe tbody tr th {\n        vertical-align: top;\n    }\n\n    .dataframe thead th {\n        text-align: right;\n    }\n</style>\n<table border=\"1\" class=\"dataframe\">\n  <thead>\n    <tr style=\"text-align: right;\">\n      <th></th>\n      <th>Rank</th>\n      <th>Country</th>\n      <th>Area (km²)</th>\n      <th>Notes</th>\n    </tr>\n  </thead>\n  <tbody>\n    <tr>\n      <th>0</th>\n      <td>1.0</td>\n      <td>Russia*</td>\n      <td>13000000</td>\n      <td>17,125,191 km² including European Russia[1]</td>\n    </tr>\n    <tr>\n      <th>1</th>\n      <td>2.0</td>\n      <td>China</td>\n      <td>9596961</td>\n      <td>excludes Hong Kong, Macau and other disputed a...</td>\n    </tr>\n    <tr>\n      <th>2</th>\n      <td>3.0</td>\n      <td>India</td>\n      <td>3287263</td>\n      <td>NaN</td>\n    </tr>\n    <tr>\n      <th>3</th>\n      <td>4.0</td>\n      <td>Kazakhstan*</td>\n      <td>2544900</td>\n      <td>2,724,900 km² including European part</td>\n    </tr>\n    <tr>\n      <th>4</th>\n      <td>5.0</td>\n      <td>Saudi Arabia</td>\n      <td>2149690</td>\n      <td>NaN</td>\n    </tr>\n  </tbody>\n</table>\n</div>"
     },
     "metadata": {},
     "execution_count": 12
    }
   ],
   "source": [
    "import pandas as pd \n",
    "df = pd.read_html(str(my_table))\n",
    "df = pd.DataFrame(df[0])\n",
    "df.head()"
   ]
  },
  {
   "cell_type": "code",
   "execution_count": 16,
   "metadata": {},
   "outputs": [],
   "source": [
    "# website_url = requests.get('https://albertyumol.github.io/#', headers={'User-Agent': 'Mozilla/5.0 (X11; Linux x86_64)'}).text"
   ]
  },
  {
   "cell_type": "code",
   "execution_count": 30,
   "metadata": {},
   "outputs": [],
   "source": [
    "website = []\n",
    "\n",
    "website.append(requests.get('https://albertyumol.github.io/#', headers={'User-Agent': 'Mozilla/5.0 (X11; Linux x86_64)'}).text)\n",
    "\n",
    "for i in range(2,5):\n",
    "    page = 'page'+str(i)+'/'\n",
    "    website.append(requests.get('https://albertyumol.github.io/'+page, headers={'User-Agent': 'Mozilla/5.0 (X11; Linux x86_64)'}).text)"
   ]
  },
  {
   "cell_type": "code",
   "execution_count": 18,
   "metadata": {},
   "outputs": [],
   "source": [
    "# soup = BeautifulSoup(website_url, 'lxml')\n",
    "# print(soup.prettify())"
   ]
  },
  {
   "cell_type": "code",
   "execution_count": 31,
   "metadata": {},
   "outputs": [
    {
     "output_type": "stream",
     "name": "stdout",
     "text": [
      "Class Demo: Scraping your Facebook posts with BeautifulSoup\n\nMaking sense of the world with data\n\nThe beautiful world of random numbers\n\nFrom Paint to PhotoShop real quick: Generating photo-realistic images using semantic image synthesis\n\n[Developing] Lecture Notes on Time Series Analysis\n\n[Developing] Basic Statistics Review for Data Science\n\nTutorial: Animating heatmap overlay-ed into Philippine map.\n\nTutorial: Animating Time Series in Python\n\nActivism via Machine Learning: Modified Hidden Markov Model to forecast protest activities\n\n‘open’ laptop anyone?\n\nOPINION: On 2019 Election Transparency Woes\n\nSelective Colorization in GIMP - A Tutorial\n\nLessons from my physics degree that have nothing to do with physics\n\nOn the Jeepney Modernization Program\n\nProperties and Applications of the 2D Fourier Transform\n\nFourier Transform Model of Image Formation\n\nLength and Area Estimation in Images\n\n"
     ]
    }
   ],
   "source": [
    "for website_url in website:\n",
    "    soup = BeautifulSoup(website_url, 'lxml')\n",
    "    my_table = soup.find('table', {'class':'wikitable sortable'})\n",
    "    div_elements = soup.find_all('div', {\"class\": \"list__item\"})\n",
    "\n",
    "    for div in div_elements:\n",
    "        a_elements = div.find_all('a', href=True)\n",
    "        for article in a_elements:\n",
    "            print(article.text)"
   ]
  },
  {
   "cell_type": "code",
   "execution_count": 35,
   "metadata": {},
   "outputs": [],
   "source": [
    "from bs4 import BeautifulSoup\n",
    "from wordcloud import WordCloud\n",
    "\n",
    "with open('C:/Users/User/Desktop/posts/your_posts_1.html') as page:\n",
    "    soup = BeautifulSoup(page, \"html.parser\")"
   ]
  },
  {
   "cell_type": "code",
   "execution_count": null,
   "metadata": {},
   "outputs": [],
   "source": [
    "contents = soup.find_all(\"div\", class_=\"_2pin\")\n",
    "contents"
   ]
  },
  {
   "cell_type": "code",
   "execution_count": 36,
   "metadata": {},
   "outputs": [
    {
     "output_type": "stream",
     "name": "stdout",
     "text": [
      "Collecting wordcloud\n  Downloading wordcloud-1.8.0-cp37-cp37m-win_amd64.whl (157 kB)\nRequirement already satisfied: numpy>=1.6.1 in c:\\users\\user\\anaconda3\\lib\\site-packages (from wordcloud) (1.18.1)\nRequirement already satisfied: matplotlib in c:\\users\\user\\anaconda3\\lib\\site-packages (from wordcloud) (3.1.3)\nRequirement already satisfied: pillow in c:\\users\\user\\anaconda3\\lib\\site-packages (from wordcloud) (7.0.0)\nRequirement already satisfied: python-dateutil>=2.1 in c:\\users\\user\\anaconda3\\lib\\site-packages (from matplotlib->wordcloud) (2.8.1)\nRequirement already satisfied: kiwisolver>=1.0.1 in c:\\users\\user\\anaconda3\\lib\\site-packages (from matplotlib->wordcloud) (1.1.0)\nRequirement already satisfied: cycler>=0.10 in c:\\users\\user\\anaconda3\\lib\\site-packages (from matplotlib->wordcloud) (0.10.0)\nRequirement already satisfied: pyparsing!=2.0.4,!=2.1.2,!=2.1.6,>=2.0.1 in c:\\users\\user\\anaconda3\\lib\\site-packages (from matplotlib->wordcloud) (2.4.6)\nRequirement already satisfied: six>=1.5 in c:\\users\\user\\appdata\\roaming\\python\\python37\\site-packages (from python-dateutil>=2.1->matplotlib->wordcloud) (1.12.0)\nRequirement already satisfied: setuptools in c:\\users\\user\\anaconda3\\lib\\site-packages (from kiwisolver>=1.0.1->matplotlib->wordcloud) (45.2.0.post20200210)\nInstalling collected packages: wordcloud\nSuccessfully installed wordcloud-1.8.0\nNote: you may need to restart the kernel to use updated packages.\n"
     ]
    }
   ],
   "source": [
    "y = ' '.join(x)"
   ]
  },
  {
   "cell_type": "code",
   "execution_count": null,
   "metadata": {},
   "outputs": [],
   "source": [
    "import matplotlib.pyplot as plt\n",
    "from wordcloud import WordCloud\n",
    "\n",
    "wordcloud = WordCloud(background_color=\"white\",max_words=2000,width = 1024,height = 720)\n",
    "wordcloud.generate(y)\n",
    "plt.figure(figsize=(20, 8))\n",
    "plt.title('Facebook WordCloud')\n",
    "plt.imshow(wordcloud, interpolation=\"bilinear\")\n",
    "plt.axis(\"off\")\n",
    "plt.show()"
   ]
  }
 ]
}